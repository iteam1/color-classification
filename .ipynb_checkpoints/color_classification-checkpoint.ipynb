{
 "cells": [
  {
   "cell_type": "markdown",
   "id": "a8762e4d",
   "metadata": {},
   "source": [
    "# preprocess image"
   ]
  },
  {
   "cell_type": "code",
   "execution_count": 26,
   "id": "32f17af2",
   "metadata": {},
   "outputs": [],
   "source": [
    "import os\n",
    "import random\n",
    "import cv2\n",
    "import numpy as np\n",
    "import matplotlib.pyplot as plt\n",
    "\n",
    "from sklearn.utils import shuffle\n",
    "from sklearn.model_selection import train_test_split\n",
    "from sklearn.metrics import accuracy_score\n",
    "from sklearn.metrics import classification_report\n",
    "from sklearn.svm import SVC\n",
    "\n",
    "import imgaug as ia\n",
    "import imgaug.augmenters as iaa\n",
    "ia.seed(1)\n",
    "\n",
    "import pickle"
   ]
  },
  {
   "cell_type": "code",
   "execution_count": 27,
   "id": "18e2d702",
   "metadata": {},
   "outputs": [],
   "source": [
    "def crop_roi(img):\n",
    "    '''\n",
    "    crop img\n",
    "    Args:\n",
    "        img: source image\n",
    "    Return:\n",
    "        roi: cropped image\n",
    "    '''\n",
    "    DIM = 50\n",
    "    OFFSET = 250\n",
    "    # crop roi\n",
    "    h,w,c = img.shape\n",
    "    center = (int(h/2)+OFFSET,int(w/2)+OFFSET)\n",
    "    top_left = (center[0]-DIM,center[1]-DIM)\n",
    "    bottom_right = (center[0]+DIM,center[1]+DIM)\n",
    "    roi = img[top_left[0]:bottom_right[0],top_left[1]:bottom_right[1]]\n",
    "    return roi"
   ]
  },
  {
   "cell_type": "code",
   "execution_count": 28,
   "id": "ad9c101b",
   "metadata": {},
   "outputs": [],
   "source": [
    "path = 'egs'\n",
    "if not os.path.exists(path):\n",
    "    os.mkdir(path)"
   ]
  },
  {
   "cell_type": "markdown",
   "id": "c20c6d4c",
   "metadata": {},
   "source": [
    "# EDA"
   ]
  },
  {
   "cell_type": "code",
   "execution_count": 29,
   "id": "8a796777",
   "metadata": {},
   "outputs": [
    {
     "name": "stdout",
     "output_type": "stream",
     "text": [
      "reading image:  colors/sand/1.jpg\n"
     ]
    },
    {
     "data": {
      "text/plain": [
       "Text(0.5, 1.0, 'sand')"
      ]
     },
     "execution_count": 29,
     "metadata": {},
     "output_type": "execute_result"
    },
    {
     "data": {
      "image/png": "[encoded data removed]",
      "text/plain": [
       "<Figure size 640x480 with 1 Axes>"
      ]
     },
     "metadata": {},
     "output_type": "display_data"
    }
   ],
   "source": [
    "# read image\n",
    "path2 = 'colors'\n",
    "colors = os.listdir(path2)\n",
    "color = random.choice(colors)\n",
    "imgs = os.listdir(os.path.join(path2,color))\n",
    "img = random.choice(imgs)\n",
    "img = os.path.join(path2,color,img)\n",
    "\n",
    "print('reading image: ',img)\n",
    "img = cv2.imread(img)\n",
    "\n",
    "roi = crop_roi(img)\n",
    "\n",
    "plt.imshow(roi)\n",
    "plt.title(color)"
   ]
  },
  {
   "cell_type": "markdown",
   "id": "41a11c6c",
   "metadata": {},
   "source": [
    "generate cropped image"
   ]
  },
  {
   "cell_type": "code",
   "execution_count": 30,
   "id": "09bee7de",
   "metadata": {},
   "outputs": [],
   "source": [
    "colors = os.listdir(path2)\n",
    "\n",
    "for c in colors:\n",
    "    # create floder\n",
    "    if not os.path.exists(os.path.join(path,c)):\n",
    "        os.mkdir(os.path.join(path,c))\n",
    "    \n",
    "    # list image\n",
    "    imgs =  os.listdir(os.path.join(path2,c))\n",
    "    \n",
    "    # crop images\n",
    "    for i,im in enumerate(imgs):\n",
    "        img_path = os.path.join(path2,c,im)\n",
    "        img = cv2.imread(img_path)\n",
    "        roi = crop_roi(img)\n",
    "        name = c+str(i)+'.jpg'\n",
    "        cv2.imwrite(os.path.join(path,c,name),roi)"
   ]
  },
  {
   "cell_type": "code",
   "execution_count": 31,
   "id": "198872a2",
   "metadata": {},
   "outputs": [
    {
     "name": "stdout",
     "output_type": "stream",
     "text": [
      "sage:10\n",
      "sand:11\n",
      "charcoal:10\n",
      "sky:12\n",
      "chalk:1\n"
     ]
    }
   ],
   "source": [
    "colors = os.listdir(path2)\n",
    "\n",
    "for c in colors:\n",
    "    # list images\n",
    "    imgs =  os.listdir(os.path.join(path2,c))\n",
    "    print(f'{c}:{len(imgs)}')"
   ]
  },
  {
   "cell_type": "markdown",
   "id": "d1f1d5b9",
   "metadata": {},
   "source": [
    "# image augmentation"
   ]
  },
  {
   "cell_type": "code",
   "execution_count": 32,
   "id": "11beab07",
   "metadata": {},
   "outputs": [],
   "source": [
    "augmentation = iaa.Sequential([\n",
    "    # 1. Flip\n",
    "    iaa.Fliplr(0.5),\n",
    "    iaa.Flipud(0.5),\n",
    "    \n",
    "    # 2. Linearcontrast\n",
    "    iaa.LinearContrast((0.8, 1.2)),\n",
    "    \n",
    "    # 3. Perform methods below only sometimes\n",
    "    iaa.Sometimes(0.5,\n",
    "                  \n",
    "    # 4. GaussianBlur\n",
    "    iaa.GaussianBlur((0.0, 3.0))\n",
    "    )\n",
    "    ])"
   ]
  },
  {
   "cell_type": "code",
   "execution_count": 33,
   "id": "1b8528bd",
   "metadata": {},
   "outputs": [],
   "source": [
    "path = 'egs'\n",
    "path2 = 'colors'\n",
    "\n",
    "path3 = 'augs'\n",
    "if not os.path.exists(path3):\n",
    "    os.mkdir(path3)\n",
    "    \n",
    "colors = os.listdir(path2)\n",
    "N = 500\n",
    "\n",
    "for color in colors:\n",
    "    imgs = os.listdir(os.path.join(path,color))\n",
    "    m = len(imgs)\n",
    "    k = N//m\n",
    "\n",
    "    # create floder\n",
    "    if not os.path.exists(os.path.join(path3,color)):\n",
    "        os.mkdir(os.path.join(path3,color))\n",
    "\n",
    "    for j,i in enumerate(imgs):\n",
    "        im = cv2.imread(os.path.join(path,color,i))\n",
    "        ims = np.array([ im for _ in range(k)],dtype=np.uint8)\n",
    "        imaugs = augmentation(images=ims)\n",
    "\n",
    "        for l,au in enumerate(imaugs):\n",
    "            name= color+str(j)+str(l)+\".jpg\"\n",
    "            cv2.imwrite(os.path.join(path3,color,name),au)"
   ]
  },
  {
   "cell_type": "markdown",
   "id": "220ac635",
   "metadata": {},
   "source": [
    "# prepare training data\n",
    "\n",
    "['sage', 'sand', 'charcoal', 'sky', 'chalk']\n",
    "\n",
    "{0: 'sage', 1: 'sand', 2: 'charcoal', 3: 'sky', 4: 'chalk'}\n",
    "\n",
    "{'sage': 0, 'sand': 1, 'charcoal': 2, 'sky': 3, 'chalk': 4}"
   ]
  },
  {
   "cell_type": "code",
   "execution_count": 34,
   "id": "9ba60afc",
   "metadata": {},
   "outputs": [
    {
     "name": "stdout",
     "output_type": "stream",
     "text": [
      "['sage', 'sand', 'charcoal', 'sky', 'chalk']\n"
     ]
    },
    {
     "data": {
      "text/plain": [
       "{0: 'sage', 1: 'sand', 2: 'charcoal', 3: 'sky', 4: 'chalk'}"
      ]
     },
     "execution_count": 34,
     "metadata": {},
     "output_type": "execute_result"
    }
   ],
   "source": [
    "path ='augs'\n",
    "labels = os.listdir(os.path.join(path))\n",
    "print(labels)\n",
    "dic = {}\n",
    "for k,l in enumerate(labels):\n",
    "    dic[k]=l\n",
    "dic"
   ]
  },
  {
   "cell_type": "code",
   "execution_count": 35,
   "id": "8850d7d9",
   "metadata": {},
   "outputs": [
    {
     "data": {
      "text/plain": [
       "{'sage': 0, 'sand': 1, 'charcoal': 2, 'sky': 3, 'chalk': 4}"
      ]
     },
     "execution_count": 35,
     "metadata": {},
     "output_type": "execute_result"
    }
   ],
   "source": [
    "dic_invert = {v:k for k,v in dic.items()}\n",
    "dic_invert"
   ]
  },
  {
   "cell_type": "code",
   "execution_count": 36,
   "id": "da251f70",
   "metadata": {},
   "outputs": [],
   "source": [
    "X = []\n",
    "y = [] #0,1,2,3,4\n",
    "for k,label in enumerate(labels):\n",
    "    for i in os.listdir(os.path.join(path,label)):\n",
    "        img = cv2.imread(os.path.join(path,label,i))\n",
    "        X.append(img)\n",
    "        y.append(k)"
   ]
  },
  {
   "cell_type": "code",
   "execution_count": 37,
   "id": "133d4f07",
   "metadata": {},
   "outputs": [
    {
     "name": "stdout",
     "output_type": "stream",
     "text": [
      "(2477, 30000)\n",
      "[0, 0, 0, 0, 0, 0, 0, 0, 0, 0]\n"
     ]
    }
   ],
   "source": [
    "X = np.array(X).reshape(len(X),-1)\n",
    "print(X.shape)\n",
    "print(y[:10])"
   ]
  },
  {
   "cell_type": "code",
   "execution_count": 38,
   "id": "835a4d2c",
   "metadata": {},
   "outputs": [],
   "source": [
    "# shuffle\n",
    "X,y = shuffle(X,y)"
   ]
  },
  {
   "cell_type": "code",
   "execution_count": 39,
   "id": "70d13986",
   "metadata": {},
   "outputs": [],
   "source": [
    "# norm\n",
    "X = X/255.0\n",
    "y = np.array(y)"
   ]
  },
  {
   "cell_type": "code",
   "execution_count": 40,
   "id": "74490f11",
   "metadata": {},
   "outputs": [],
   "source": [
    "# split\n",
    "X_train, X_val, y_train, y_val = train_test_split(X,y)"
   ]
  },
  {
   "cell_type": "code",
   "execution_count": 41,
   "id": "6cd98fdb",
   "metadata": {},
   "outputs": [
    {
     "data": {
      "text/html": [
       "<style>#sk-container-id-2 {color: black;background-color: white;}#sk-container-id-2 pre{padding: 0;}#sk-container-id-2 div.sk-toggleable {background-color: white;}#sk-container-id-2 label.sk-toggleable__label {cursor: pointer;display: block;width: 100%;margin-bottom: 0;padding: 0.3em;box-sizing: border-box;text-align: center;}#sk-container-id-2 label.sk-toggleable__label-arrow:before {content: \"▸\";float: left;margin-right: 0.25em;color: #696969;}#sk-container-id-2 label.sk-toggleable__label-arrow:hover:before {color: black;}#sk-container-id-2 div.sk-estimator:hover label.sk-toggleable__label-arrow:before {color: black;}#sk-container-id-2 div.sk-toggleable__content {max-height: 0;max-width: 0;overflow: hidden;text-align: left;background-color: #f0f8ff;}#sk-container-id-2 div.sk-toggleable__content pre {margin: 0.2em;color: black;border-radius: 0.25em;background-color: #f0f8ff;}#sk-container-id-2 input.sk-toggleable__control:checked~div.sk-toggleable__content {max-height: 200px;max-width: 100%;overflow: auto;}#sk-container-id-2 input.sk-toggleable__control:checked~label.sk-toggleable__label-arrow:before {content: \"▾\";}#sk-container-id-2 div.sk-estimator input.sk-toggleable__control:checked~label.sk-toggleable__label {background-color: #d4ebff;}#sk-container-id-2 div.sk-label input.sk-toggleable__control:checked~label.sk-toggleable__label {background-color: #d4ebff;}#sk-container-id-2 input.sk-hidden--visually {border: 0;clip: rect(1px 1px 1px 1px);clip: rect(1px, 1px, 1px, 1px);height: 1px;margin: -1px;overflow: hidden;padding: 0;position: absolute;width: 1px;}#sk-container-id-2 div.sk-estimator {font-family: monospace;background-color: #f0f8ff;border: 1px dotted black;border-radius: 0.25em;box-sizing: border-box;margin-bottom: 0.5em;}#sk-container-id-2 div.sk-estimator:hover {background-color: #d4ebff;}#sk-container-id-2 div.sk-parallel-item::after {content: \"\";width: 100%;border-bottom: 1px solid gray;flex-grow: 1;}#sk-container-id-2 div.sk-label:hover label.sk-toggleable__label {background-color: #d4ebff;}#sk-container-id-2 div.sk-serial::before {content: \"\";position: absolute;border-left: 1px solid gray;box-sizing: border-box;top: 0;bottom: 0;left: 50%;z-index: 0;}#sk-container-id-2 div.sk-serial {display: flex;flex-direction: column;align-items: center;background-color: white;padding-right: 0.2em;padding-left: 0.2em;position: relative;}#sk-container-id-2 div.sk-item {position: relative;z-index: 1;}#sk-container-id-2 div.sk-parallel {display: flex;align-items: stretch;justify-content: center;background-color: white;position: relative;}#sk-container-id-2 div.sk-item::before, #sk-container-id-2 div.sk-parallel-item::before {content: \"\";position: absolute;border-left: 1px solid gray;box-sizing: border-box;top: 0;bottom: 0;left: 50%;z-index: -1;}#sk-container-id-2 div.sk-parallel-item {display: flex;flex-direction: column;z-index: 1;position: relative;background-color: white;}#sk-container-id-2 div.sk-parallel-item:first-child::after {align-self: flex-end;width: 50%;}#sk-container-id-2 div.sk-parallel-item:last-child::after {align-self: flex-start;width: 50%;}#sk-container-id-2 div.sk-parallel-item:only-child::after {width: 0;}#sk-container-id-2 div.sk-dashed-wrapped {border: 1px dashed gray;margin: 0 0.4em 0.5em 0.4em;box-sizing: border-box;padding-bottom: 0.4em;background-color: white;}#sk-container-id-2 div.sk-label label {font-family: monospace;font-weight: bold;display: inline-block;line-height: 1.2em;}#sk-container-id-2 div.sk-label-container {text-align: center;}#sk-container-id-2 div.sk-container {/* jupyter's `normalize.less` sets `[hidden] { display: none; }` but bootstrap.min.css set `[hidden] { display: none !important; }` so we also need the `!important` here to be able to override the default hidden behavior on the sphinx rendered scikit-learn.org. See: https://github.com/scikit-learn/scikit-learn/issues/21755 */display: inline-block !important;position: relative;}#sk-container-id-2 div.sk-text-repr-fallback {display: none;}</style><div id=\"sk-container-id-2\" class=\"sk-top-container\"><div class=\"sk-text-repr-fallback\"><pre>SVC(gamma=&#x27;auto&#x27;, kernel=&#x27;linear&#x27;)</pre><b>In a Jupyter environment, please rerun this cell to show the HTML representation or trust the notebook. <br />On GitHub, the HTML representation is unable to render, please try loading this page with nbviewer.org.</b></div><div class=\"sk-container\" hidden><div class=\"sk-item\"><div class=\"sk-estimator sk-toggleable\"><input class=\"sk-toggleable__control sk-hidden--visually\" id=\"sk-estimator-id-2\" type=\"checkbox\" checked><label for=\"sk-estimator-id-2\" class=\"sk-toggleable__label sk-toggleable__label-arrow\">SVC</label><div class=\"sk-toggleable__content\"><pre>SVC(gamma=&#x27;auto&#x27;, kernel=&#x27;linear&#x27;)</pre></div></div></div></div></div>"
      ],
      "text/plain": [
       "SVC(gamma='auto', kernel='linear')"
      ]
     },
     "execution_count": 41,
     "metadata": {},
     "output_type": "execute_result"
    }
   ],
   "source": [
    "svc = SVC(kernel='linear',gamma='auto') #linear,rbf\n",
    "svc.fit(X_train, y_train)"
   ]
  },
  {
   "cell_type": "code",
   "execution_count": 42,
   "id": "85c2d4dc",
   "metadata": {},
   "outputs": [],
   "source": [
    "y2 = svc.predict(X_val)"
   ]
  },
  {
   "cell_type": "code",
   "execution_count": 43,
   "id": "214b68e2",
   "metadata": {},
   "outputs": [
    {
     "name": "stdout",
     "output_type": "stream",
     "text": [
      "Accuracy on unknown data is 1.0\n"
     ]
    }
   ],
   "source": [
    "# calc accuracy\n",
    "print(\"Accuracy on unknown data is\",accuracy_score(y_val,y2))"
   ]
  },
  {
   "cell_type": "code",
   "execution_count": 44,
   "id": "6ebd7b2c",
   "metadata": {},
   "outputs": [
    {
     "name": "stdout",
     "output_type": "stream",
     "text": [
      "Accuracy on unknown data is               precision    recall  f1-score   support\n",
      "\n",
      "           0       1.00      1.00      1.00       117\n",
      "           1       1.00      1.00      1.00       125\n",
      "           2       1.00      1.00      1.00       130\n",
      "           3       1.00      1.00      1.00       121\n",
      "           4       1.00      1.00      1.00       127\n",
      "\n",
      "    accuracy                           1.00       620\n",
      "   macro avg       1.00      1.00      1.00       620\n",
      "weighted avg       1.00      1.00      1.00       620\n",
      "\n"
     ]
    }
   ],
   "source": [
    "print(\"Accuracy on unknown data is\",classification_report(y_val,y2))"
   ]
  },
  {
   "cell_type": "code",
   "execution_count": 45,
   "id": "758a5989",
   "metadata": {},
   "outputs": [],
   "source": [
    "del X_train\n",
    "del y_train\n",
    "del X_val\n",
    "del y_val"
   ]
  },
  {
   "cell_type": "code",
   "execution_count": 46,
   "id": "94f91a00",
   "metadata": {},
   "outputs": [],
   "source": [
    "# save the model to disk\n",
    "filename = 'classifier_model.sav'\n",
    "pickle.dump(svc, open(filename, 'wb'))"
   ]
  },
  {
   "cell_type": "markdown",
   "id": "e04a3205",
   "metadata": {},
   "source": [
    "# test trained model"
   ]
  },
  {
   "cell_type": "code",
   "execution_count": 47,
   "id": "ebc3467c",
   "metadata": {},
   "outputs": [],
   "source": [
    "# load saved model\n",
    "filename = 'classifier_model.sav'\n",
    "loaded_model = pickle.load(open(filename,'rb'))"
   ]
  },
  {
   "cell_type": "code",
   "execution_count": 48,
   "id": "bf301195",
   "metadata": {},
   "outputs": [
    {
     "name": "stdout",
     "output_type": "stream",
     "text": [
      "Accuracy on  sage  data is 1.0\n",
      "Accuracy on  sand  data is 1.0\n",
      "Accuracy on  charcoal  data is 1.0\n",
      "Accuracy on  sky  data is 1.0\n",
      "Accuracy on  chalk  data is 1.0\n"
     ]
    }
   ],
   "source": [
    "path = 'egs'\n",
    "colors = os.listdir(path)\n",
    "for color in colors:\n",
    "    imgs = os.listdir(os.path.join(path,color))\n",
    "\n",
    "    X = []\n",
    "    y = []\n",
    "\n",
    "    for i in imgs:\n",
    "        img = cv2.imread(os.path.join(path,color,i))\n",
    "        X.append(img)\n",
    "        k = dic_invert[color]\n",
    "        y.append(k)\n",
    "\n",
    "    X = np.array(X).reshape(len(X),-1)\n",
    "    X = X/255.0\n",
    "    y = np.array(y)\n",
    "\n",
    "    preds = loaded_model.predict(X)\n",
    "\n",
    "    # calc accuracy\n",
    "    print(\"Accuracy on \",color,\" data is\",accuracy_score(y,preds))"
   ]
  },
  {
   "cell_type": "markdown",
   "id": "07233e46",
   "metadata": {},
   "source": [
    "# random test"
   ]
  },
  {
   "cell_type": "code",
   "execution_count": 49,
   "id": "3f7e90b0",
   "metadata": {},
   "outputs": [
    {
     "name": "stdout",
     "output_type": "stream",
     "text": [
      "reading image:  colors/chalk/1.jpg\n"
     ]
    },
    {
     "data": {
      "text/plain": [
       "Text(0.5, 1.0, 'pred: chalk ground truth: chalk')"
      ]
     },
     "execution_count": 49,
     "metadata": {},
     "output_type": "execute_result"
    },
    {
     "data": {
      "image/png": "[encoded data removed]",
      "text/plain": [
       "<Figure size 640x480 with 1 Axes>"
      ]
     },
     "metadata": {},
     "output_type": "display_data"
    }
   ],
   "source": [
    "# read image\n",
    "path = 'colors'\n",
    "colors = os.listdir(path)\n",
    "color = random.choice(colors)\n",
    "imgs = os.listdir(os.path.join(path,color))\n",
    "img = random.choice(imgs)\n",
    "img = os.path.join(path,color,img)\n",
    "print('reading image: ',img)\n",
    "img = cv2.imread(img)\n",
    "img = img/255.0\n",
    "\n",
    "# predict\n",
    "roi = crop_roi(img)\n",
    "x = roi.reshape(1,-1)\n",
    "\n",
    "y= loaded_model.predict(x)\n",
    "\n",
    "plt.imshow(roi)\n",
    "plt.title(\"pred: \" + dic[int(y)] + \" ground truth: \" + color)"
   ]
  },
  {
   "cell_type": "markdown",
   "id": "9a6e22db",
   "metadata": {},
   "source": [
    "# predict"
   ]
  },
  {
   "cell_type": "code",
   "execution_count": 50,
   "id": "fe68f241",
   "metadata": {},
   "outputs": [
    {
     "name": "stdout",
     "output_type": "stream",
     "text": [
      "Accuracy on  sage  data is 1.0\n",
      "Accuracy on  sand  data is 1.0\n",
      "Accuracy on  charcoal  data is 1.0\n",
      "Accuracy on  sky  data is 1.0\n",
      "Accuracy on  chalk  data is 1.0\n"
     ]
    }
   ],
   "source": [
    "path = 'colors'\n",
    "colors = os.listdir(path)\n",
    "\n",
    "for color in colors:\n",
    "    \n",
    "    X = []\n",
    "    y = []\n",
    "    \n",
    "    imgs = os.listdir(os.path.join(path,color))\n",
    "\n",
    "    for i in imgs:\n",
    "        img = cv2.imread(os.path.join(path,color,i))\n",
    "        roi = crop_roi(img)\n",
    "        X.append(roi)\n",
    "        k = dic_invert[color]\n",
    "        y.append(k)\n",
    "\n",
    "    X = np.array(X).reshape(len(X),-1)\n",
    "    X = X/255.0\n",
    "    y = np.array(y)\n",
    "\n",
    "    preds = loaded_model.predict(X)\n",
    "\n",
    "    # calc accuracy\n",
    "    print(\"Accuracy on \",color,\" data is\",accuracy_score(y,preds))"
   ]
  },
  {
   "cell_type": "markdown",
   "id": "7c7de2ed",
   "metadata": {},
   "source": [
    "test on specific floder"
   ]
  },
  {
   "cell_type": "code",
   "execution_count": 51,
   "id": "a8804918",
   "metadata": {},
   "outputs": [
    {
     "name": "stdout",
     "output_type": "stream",
     "text": [
      "img: BC731C2F-FEDA-4842-B04A-C6127E8977F6_1_201_a copy.jpg pred: sky\n",
      "img: 8745399D-F139-4F05-873F-0F8191CA9E8E_1_201_a copy.jpg pred: sky\n",
      "img: CEF4D2BF-DFFC-493B-925C-A60CE93B3CD4_1_201_a copy.jpg pred: sky\n",
      "img: EF5057F0-EFA0-4302-ADA7-AE930C6D798D_1_201_a copy.jpg pred: sky\n",
      "img: D18A923B-5C69-46D0-9023-E6AF26B1D481_1_201_a copy.jpg pred: sky\n",
      "img: FC917109-B5C9-4C0A-85D7-89F2EF88462C_1_201_a copy.jpg pred: sky\n",
      "img: DFC151B1-4787-42B3-A588-717076A4A34E_1_201_a copy.jpg pred: sky\n",
      "img: D9A0B22D-8F1E-4B22-AE30-31185B62A0CC_1_201_a copy.jpg pred: sky\n",
      "img: 84BCDAC7-8E70-4046-AF7B-FA73FF2EA309_1_201_a copy.jpg pred: sky\n",
      "img: 36ABC165-013D-43F4-8CD6-AA550E423EE1_1_201_a copy.jpg pred: sky\n",
      "img: 73BE3405-F511-4F03-8C09-03E3F241F181_1_201_a copy.jpg pred: sky\n",
      "img: 4C6F0F21-4147-4467-8C58-BABF57F805AA_1_201_a copy.jpg pred: sky\n",
      "img: 181A420A-8A9B-4AAF-AB9B-1A2A434FD47D_1_201_a copy.jpg pred: sky\n",
      "img: 67B846AB-0D76-4690-AEA6-EA931D20F9D7_1_201_a copy.jpg pred: sky\n",
      "img: DCEC0B81-E2E0-480F-8593-14C9DB66206D_1_201_a copy.jpg pred: sky\n",
      "img: 4D9001A3-B9F3-49AA-8FF4-D447740CE8D2_1_201_a copy.jpg pred: sky\n",
      "img: 58306BF8-0EBD-4A5C-99BD-90E18A0A2F6A_1_201_a copy.jpg pred: sky\n"
     ]
    }
   ],
   "source": [
    "path = 'hailu'\n",
    "imgs = os.listdir(path)\n",
    "for i in imgs:\n",
    "    img = cv2.imread(os.path.join(path,i))\n",
    "    img = img/255.0\n",
    "    # predict\n",
    "    roi = crop_roi(img)\n",
    "    x = roi.reshape(1,-1)\n",
    "    y= loaded_model.predict(x)\n",
    "    print(\"img: \" + i + \" pred: \" + dic[int(y)])"
   ]
  },
  {
   "cell_type": "code",
   "execution_count": 52,
   "id": "181e9f94",
   "metadata": {},
   "outputs": [
    {
     "data": {
      "text/plain": [
       "Text(0.5, 1.0, 'pred: sky')"
      ]
     },
     "execution_count": 52,
     "metadata": {},
     "output_type": "execute_result"
    },
    {
     "data": {
      "image/png": "[encoded data removed]",
      "text/plain": [
       "<Figure size 640x480 with 1 Axes>"
      ]
     },
     "metadata": {},
     "output_type": "display_data"
    }
   ],
   "source": [
    "img_path = \"hailu/36ABC165-013D-43F4-8CD6-AA550E423EE1_1_201_a copy.jpg\"\n",
    "img = cv2.imread(img_path)\n",
    "img = img/255.0\n",
    "\n",
    "# predict\n",
    "roi = crop_roi(img)\n",
    "x = roi.reshape(1,-1)\n",
    "\n",
    "y= loaded_model.predict(x)\n",
    "\n",
    "plt.imshow(roi)\n",
    "plt.title(\"pred: \" + dic[int(y)])"
   ]
  }
 ],
 "metadata": {
  "kernelspec": {
   "display_name": "Python 3 (ipykernel)",
   "language": "python",
   "name": "python3"
  },
  "language_info": {
   "codemirror_mode": {
    "name": "ipython",
    "version": 3
   },
   "file_extension": ".py",
   "mimetype": "text/x-python",
   "name": "python",
   "nbconvert_exporter": "python",
   "pygments_lexer": "ipython3",
   "version": "3.8.10"
  }
 },
 "nbformat": 4,
 "nbformat_minor": 5
}
