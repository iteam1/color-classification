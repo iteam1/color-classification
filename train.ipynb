{
 "cells": [
  {
   "attachments": {},
   "cell_type": "markdown",
   "metadata": {},
   "source": [
    "import the libraries"
   ]
  },
  {
   "cell_type": "code",
   "execution_count": 48,
   "metadata": {},
   "outputs": [],
   "source": [
    "import cv2\n",
    "import os\n",
    "import random\n",
    "import numpy as np\n",
    "import imgaug as ia\n",
    "import tensorflow as tf\n",
    "import imgaug.augmenters as iaa\n",
    "import matplotlib.pyplot as plt\n",
    "from sklearn.utils import shuffle\n",
    "from sklearn.model_selection import train_test_split"
   ]
  },
  {
   "attachments": {},
   "cell_type": "markdown",
   "metadata": {},
   "source": [
    "inspect original images"
   ]
  },
  {
   "cell_type": "code",
   "execution_count": 49,
   "metadata": {},
   "outputs": [
    {
     "name": "stdout",
     "output_type": "stream",
     "text": [
      "brown:6\n",
      "white:64\n",
      "white2:10\n",
      "black:755\n",
      "red:11\n",
      "white1:27\n"
     ]
    }
   ],
   "source": [
    "src = \"crop\"\n",
    "dst = \"train\"\n",
    "labels  = os.listdir(src)\n",
    "for label in labels:\n",
    "    path = os.path.join(src,label)\n",
    "    imgs = os.listdir(path)\n",
    "    print(f'{label}:{len(imgs)}')"
   ]
  },
  {
   "attachments": {},
   "cell_type": "markdown",
   "metadata": {},
   "source": [
    "data augmentation"
   ]
  },
  {
   "cell_type": "code",
   "execution_count": 50,
   "metadata": {},
   "outputs": [],
   "source": [
    "ia.seed(1)\n",
    "\n",
    "seq = iaa.Sequential([\n",
    "    iaa.Fliplr(0.5), # horizontal flips\n",
    "    iaa.Flipud(0.5), # vertical flips\n",
    "    iaa.Crop(percent=(0, 0.1)), # random crops\n",
    "    # Brightness\n",
    "    iaa.MultiplyBrightness((0.9, 1.1)),\n",
    "    # Small gaussian blur with random sigma between 0 and 0.5.\n",
    "    # But we only blur about 50% of all images.\n",
    "    iaa.Sometimes(0.5,iaa.GaussianBlur(sigma=(0, 0.5))),\n",
    "    # Strengthen or weaken the contrast in each image.\n",
    "    iaa.LinearContrast((0.75, 1.5)),\n",
    "    # Add gaussian noise.\n",
    "    # For 50% of all images, we sample the noise once per pixel.\n",
    "    # For the other 50% of all images, we sample the noise per pixel AND\n",
    "    # channel. This can change the color (not only brightness) of the\n",
    "    # pixels.\n",
    "    iaa.AdditiveGaussianNoise(loc=0, scale=(0.0, 0.05*255), per_channel=0.5),\n",
    "    # Make some images brighter and some darker.\n",
    "    # In 10% of all cases, we sample the multiplier once per channel,\n",
    "    # which can end up changing the color of the images.\n",
    "    iaa.Multiply((0.99, 1.01), per_channel=0.1),\n",
    "    ], \n",
    "    random_order=True) # apply augmenters in random order"
   ]
  },
  {
   "cell_type": "code",
   "execution_count": 4,
   "metadata": {},
   "outputs": [],
   "source": [
    "N = 8000\n",
    "DIM = 100\n",
    "\n",
    "dst = \"train\"\n",
    "if not os.path.exists(dst):\n",
    "    os.mkdir(dst)\n",
    "    \n",
    "for label in labels:\n",
    "    path = os.path.join(dst,label)\n",
    "    if not os.path.exists(path):\n",
    "        os.mkdir(path)\n",
    "\n",
    "for label in labels:\n",
    "    path = os.path.join(src,label)\n",
    "    imgs = os.listdir(path)\n",
    "    m = len(imgs)\n",
    "    k = N//m\n",
    "    \n",
    "    for i,img in enumerate(imgs):\n",
    "        path = os.path.join(src,label,img)\n",
    "        im = cv2.imread(path)\n",
    "        ims = np.array([ im for _ in range(k)], dtype=np.uint8)\n",
    "        imaugs = seq(images=ims)\n",
    "\n",
    "        for j,au in enumerate(imaugs):\n",
    "            name= label+str(i)+str(j)+\".jpg\"\n",
    "            path = os.path.join(dst,label,name)\n",
    "            au = cv2.resize(au,(DIM,DIM),interpolation=cv2.INTER_AREA)\n",
    "            cv2.imwrite(path,au)"
   ]
  },
  {
   "cell_type": "code",
   "execution_count": 5,
   "metadata": {},
   "outputs": [],
   "source": [
    "N = 3000\n",
    "DIM = 100\n",
    "\n",
    "dst = \"test\"\n",
    "if not os.path.exists(dst):\n",
    "    os.mkdir(dst)\n",
    "    \n",
    "for label in labels:\n",
    "    path = os.path.join(dst,label)\n",
    "    if not os.path.exists(path):\n",
    "        os.mkdir(path)\n",
    "\n",
    "for label in labels:\n",
    "    path = os.path.join(src,label)\n",
    "    imgs = os.listdir(path)\n",
    "    m = len(imgs)\n",
    "    k = N//m\n",
    "    \n",
    "    for i,img in enumerate(imgs):\n",
    "        path = os.path.join(src,label,img)\n",
    "        im = cv2.imread(path)\n",
    "        ims = np.array([ im for _ in range(k)], dtype=np.uint8)\n",
    "        imaugs = seq(images=ims)\n",
    "\n",
    "        for j,au in enumerate(imaugs):\n",
    "            name= label+str(i)+str(j)+\".jpg\"\n",
    "            path = os.path.join(dst,label,name)\n",
    "            au = cv2.resize(au,(DIM,DIM),interpolation=cv2.INTER_AREA)\n",
    "            cv2.imwrite(path,au)"
   ]
  },
  {
   "attachments": {},
   "cell_type": "markdown",
   "metadata": {},
   "source": [
    "Create labels"
   ]
  },
  {
   "cell_type": "code",
   "execution_count": 18,
   "metadata": {},
   "outputs": [],
   "source": [
    "dic={\n",
    "    \"black\":0,\n",
    "    \"brown\":1,\n",
    "    \"red\":2,\n",
    "    \"white1\":3,\n",
    "    \"white2\":4,\n",
    "    \"white\":5\n",
    "}"
   ]
  },
  {
   "attachments": {},
   "cell_type": "markdown",
   "metadata": {},
   "source": [
    "Create a dataset"
   ]
  },
  {
   "cell_type": "code",
   "execution_count": 19,
   "metadata": {},
   "outputs": [
    {
     "name": "stdout",
     "output_type": "stream",
     "text": [
      "6\n",
      "X: (16836, 768)\n",
      "y: (16836,)\n"
     ]
    }
   ],
   "source": [
    "X = []\n",
    "y = []\n",
    "\n",
    "labels = os.listdir(dst)\n",
    "for label in labels:\n",
    "    path = os.path.join(dst,label)\n",
    "    imgs = os.listdir(path)\n",
    "    for img in imgs:\n",
    "        path = os.path.join(dst,label,img)\n",
    "        # read image\n",
    "        x = cv2.imread(path)\n",
    "        # convert hsv\n",
    "        lab = cv2.cvtColor(x,cv2.COLOR_BGR2LAB)\n",
    "        l = lab[:,:,0]\n",
    "        a = lab[:,:,1]\n",
    "        b = lab[:,:,2]\n",
    "        hist1 = cv2.calcHist(l,[0],None,[256],[0,256])\n",
    "        hist2 = cv2.calcHist(a,[0],None,[256],[0,256])\n",
    "        hist3 = cv2.calcHist(b,[0],None,[256],[0,256])\n",
    "        x = np.concatenate((hist1,hist2,hist3))\n",
    "        x = x.ravel()\n",
    "        X.append(x)\n",
    "        y.append(dic[label])\n",
    "\n",
    "no_classes = len(set(y))\n",
    "print(no_classes)\n",
    "\n",
    "#convert to numpy array\n",
    "X = np.array(X)\n",
    "y = np.array(y)\n",
    "\n",
    "print(\"X:\",X.shape)\n",
    "print(\"y:\",y.shape)\n"
   ]
  },
  {
   "cell_type": "code",
   "execution_count": 20,
   "metadata": {},
   "outputs": [],
   "source": [
    "# shuffle\n",
    "X,y = shuffle(X,y)"
   ]
  },
  {
   "cell_type": "code",
   "execution_count": 21,
   "metadata": {},
   "outputs": [
    {
     "name": "stdout",
     "output_type": "stream",
     "text": [
      "X_train (12627, 768)\n",
      "y_train (12627,)\n",
      "X_val (4209, 768)\n",
      "X_val (4209,)\n"
     ]
    }
   ],
   "source": [
    "# split\n",
    "X_train, X_val, y_train, y_val = train_test_split(X,y)\n",
    "print(\"X_train\",X_train.shape)\n",
    "print(\"y_train\",y_train.shape)\n",
    "print(\"X_val\",X_val.shape)\n",
    "print(\"X_val\",y_val.shape)"
   ]
  },
  {
   "attachments": {},
   "cell_type": "markdown",
   "metadata": {},
   "source": [
    "**NN1**"
   ]
  },
  {
   "cell_type": "code",
   "execution_count": 29,
   "metadata": {},
   "outputs": [
    {
     "name": "stdout",
     "output_type": "stream",
     "text": [
      "Model: \"sequential_3\"\n",
      "_________________________________________________________________\n",
      " Layer (type)                Output Shape              Param #   \n",
      "=================================================================\n",
      " dense_14 (Dense)            (None, 256)               196864    \n",
      "                                                                 \n",
      " dense_15 (Dense)            (None, 64)                16448     \n",
      "                                                                 \n",
      " dense_16 (Dense)            (None, 6)                 390       \n",
      "                                                                 \n",
      "=================================================================\n",
      "Total params: 213,702\n",
      "Trainable params: 213,702\n",
      "Non-trainable params: 0\n",
      "_________________________________________________________________\n"
     ]
    }
   ],
   "source": [
    "# build model\n",
    "model = tf.keras.models.Sequential([\n",
    "    tf.keras.layers.Input(shape=(768,)),\n",
    "    # tf.keras.layers.Flatten(), \n",
    "    tf.keras.layers.Dense(256,activation='relu'),\n",
    "    tf.keras.layers.Dense(64,activation='relu'),\n",
    "    tf.keras.layers.Dense(no_classes,activation='softmax')\n",
    "])\n",
    "\n",
    "# compile model\n",
    "model.compile(loss='sparse_categorical_crossentropy',optimizer='sgd',metrics=['accuracy'])\n",
    "\n",
    "# model summary\n",
    "model.summary()"
   ]
  },
  {
   "cell_type": "code",
   "execution_count": 30,
   "metadata": {},
   "outputs": [
    {
     "name": "stdout",
     "output_type": "stream",
     "text": [
      "Epoch 1/10\n",
      "395/395 [==============================] - 1s 2ms/step - loss: 0.3070 - accuracy: 0.8929 - val_loss: 0.2163 - val_accuracy: 0.9173\n",
      "Epoch 2/10\n",
      "395/395 [==============================] - 1s 1ms/step - loss: 0.1555 - accuracy: 0.9415 - val_loss: 0.2225 - val_accuracy: 0.9147\n",
      "Epoch 3/10\n",
      "395/395 [==============================] - 0s 1ms/step - loss: 0.1331 - accuracy: 0.9471 - val_loss: 0.1606 - val_accuracy: 0.9366\n",
      "Epoch 4/10\n",
      "395/395 [==============================] - 0s 1ms/step - loss: 0.1203 - accuracy: 0.9529 - val_loss: 0.1504 - val_accuracy: 0.9437\n",
      "Epoch 5/10\n",
      "395/395 [==============================] - 0s 1ms/step - loss: 0.1091 - accuracy: 0.9579 - val_loss: 0.1521 - val_accuracy: 0.9408\n",
      "Epoch 6/10\n",
      "395/395 [==============================] - 0s 1ms/step - loss: 0.1011 - accuracy: 0.9602 - val_loss: 0.1560 - val_accuracy: 0.9408\n",
      "Epoch 7/10\n",
      "395/395 [==============================] - 0s 1ms/step - loss: 0.0941 - accuracy: 0.9635 - val_loss: 0.1442 - val_accuracy: 0.9439\n",
      "Epoch 8/10\n",
      "395/395 [==============================] - 0s 1ms/step - loss: 0.0899 - accuracy: 0.9641 - val_loss: 0.1453 - val_accuracy: 0.9435\n",
      "Epoch 9/10\n",
      "395/395 [==============================] - 0s 1ms/step - loss: 0.0859 - accuracy: 0.9650 - val_loss: 0.1498 - val_accuracy: 0.9423\n",
      "Epoch 10/10\n",
      "395/395 [==============================] - 0s 1ms/step - loss: 0.0793 - accuracy: 0.9679 - val_loss: 0.1463 - val_accuracy: 0.9473\n"
     ]
    }
   ],
   "source": [
    "# train model\n",
    "epochs = 10\n",
    "history = model.fit(X_train,y_train,validation_data=(X_val,y_val),epochs=epochs)"
   ]
  },
  {
   "cell_type": "code",
   "execution_count": 31,
   "metadata": {},
   "outputs": [
    {
     "data": {
      "image/png": "[encoded data removed]",
      "text/plain": [
       "<Figure size 1400x700 with 2 Axes>"
      ]
     },
     "metadata": {},
     "output_type": "display_data"
    }
   ],
   "source": [
    "acc = history.history['accuracy']\n",
    "val_acc = history.history['val_accuracy']\n",
    "\n",
    "loss = history.history['loss']\n",
    "val_loss = history.history['val_loss']\n",
    "\n",
    "epochs_range = range(epochs)\n",
    "\n",
    "plt.figure(figsize=(14, 7))\n",
    "plt.subplot(1, 2, 1)\n",
    "plt.plot(epochs_range, acc, label='Training Accuracy')\n",
    "plt.plot(epochs_range, val_acc, label='Validation Accuracy')\n",
    "plt.legend(loc='lower right')\n",
    "plt.title('Training and Validation Accuracy')\n",
    "\n",
    "plt.subplot(1, 2, 2)\n",
    "plt.plot(epochs_range, loss, label='Training Loss')\n",
    "plt.plot(epochs_range, val_loss, label='Validation Loss')\n",
    "plt.legend(loc='upper right')\n",
    "plt.title('Training and Validation Loss')\n",
    "plt.show()"
   ]
  },
  {
   "attachments": {},
   "cell_type": "markdown",
   "metadata": {},
   "source": [
    "Export model"
   ]
  },
  {
   "cell_type": "code",
   "execution_count": 43,
   "metadata": {},
   "outputs": [
    {
     "name": "stderr",
     "output_type": "stream",
     "text": [
      "WARNING:absl:Found untraced functions such as _update_step_xla while saving (showing 1 of 1). These functions will not be directly callable after loading.\n"
     ]
    },
    {
     "name": "stdout",
     "output_type": "stream",
     "text": [
      "INFO:tensorflow:Assets written to: nn1/assets\n"
     ]
    },
    {
     "name": "stderr",
     "output_type": "stream",
     "text": [
      "INFO:tensorflow:Assets written to: nn1/assets\n"
     ]
    }
   ],
   "source": [
    "model_name = 'nn1'\n",
    "model.save(model_name)"
   ]
  },
  {
   "attachments": {},
   "cell_type": "markdown",
   "metadata": {},
   "source": [
    "Load model"
   ]
  },
  {
   "cell_type": "code",
   "execution_count": 44,
   "metadata": {},
   "outputs": [
    {
     "name": "stdout",
     "output_type": "stream",
     "text": [
      "Model: \"sequential_3\"\n",
      "_________________________________________________________________\n",
      " Layer (type)                Output Shape              Param #   \n",
      "=================================================================\n",
      " dense_14 (Dense)            (None, 256)               196864    \n",
      "                                                                 \n",
      " dense_15 (Dense)            (None, 64)                16448     \n",
      "                                                                 \n",
      " dense_16 (Dense)            (None, 6)                 390       \n",
      "                                                                 \n",
      "=================================================================\n",
      "Total params: 213,702\n",
      "Trainable params: 213,702\n",
      "Non-trainable params: 0\n",
      "_________________________________________________________________\n"
     ]
    }
   ],
   "source": [
    "loaded_model = tf.keras.models.load_model(model_name)\n",
    "loaded_model.summary()"
   ]
  },
  {
   "cell_type": "code",
   "execution_count": 45,
   "metadata": {},
   "outputs": [
    {
     "name": "stdout",
     "output_type": "stream",
     "text": [
      "X: (16836, 768)\n",
      "y: (16836,)\n"
     ]
    }
   ],
   "source": [
    "X = []\n",
    "y = []\n",
    "\n",
    "dst = \"test\"\n",
    "\n",
    "labels = os.listdir(dst)\n",
    "for label in labels:\n",
    "    path = os.path.join(dst,label)\n",
    "    imgs = os.listdir(path)\n",
    "    for img in imgs:\n",
    "        path = os.path.join(dst,label,img)\n",
    "        # read image\n",
    "        x = cv2.imread(path)\n",
    "        # convert hsv\n",
    "        lab = cv2.cvtColor(x,cv2.COLOR_BGR2LAB)\n",
    "        l = lab[:,:,0]\n",
    "        a = lab[:,:,1]\n",
    "        b = lab[:,:,2]\n",
    "        hist1 = cv2.calcHist(l,[0],None,[256],[0,256])\n",
    "        hist2 = cv2.calcHist(a,[0],None,[256],[0,256])\n",
    "        hist3 = cv2.calcHist(b,[0],None,[256],[0,256])\n",
    "        x = np.concatenate((hist1,hist2,hist3))\n",
    "        x = x.ravel()\n",
    "        X.append(x)\n",
    "        y.append(dic[label])\n",
    "        \n",
    "# convert to numpy array\n",
    "X = np.array(X)\n",
    "y = np.array(y)\n",
    "\n",
    "print(\"X:\",X.shape)\n",
    "print(\"y:\",y.shape)"
   ]
  },
  {
   "cell_type": "code",
   "execution_count": 46,
   "metadata": {},
   "outputs": [
    {
     "name": "stdout",
     "output_type": "stream",
     "text": [
      "527/527 [==============================] - 0s 529us/step\n"
     ]
    },
    {
     "data": {
      "text/plain": [
       "(16836, 6)"
      ]
     },
     "execution_count": 46,
     "metadata": {},
     "output_type": "execute_result"
    }
   ],
   "source": [
    "preds = loaded_model.predict(X)\n",
    "preds.shape"
   ]
  },
  {
   "cell_type": "code",
   "execution_count": 47,
   "metadata": {},
   "outputs": [
    {
     "name": "stdout",
     "output_type": "stream",
     "text": [
      "accuracy 0.9675694939415538,16290/16836\n"
     ]
    }
   ],
   "source": [
    "count = 0\n",
    "for i in range(preds.shape[0]):\n",
    "    pred = np.argmax(preds[i])\n",
    "    if pred == y[i]:\n",
    "        count+=1\n",
    "\n",
    "print(f'accuracy {count/preds.shape[0]},{count}/{preds.shape[0]}')"
   ]
  },
  {
   "attachments": {},
   "cell_type": "markdown",
   "metadata": {},
   "source": [
    "**SVM**"
   ]
  },
  {
   "cell_type": "markdown",
   "metadata": {},
   "source": []
  },
  {
   "attachments": {},
   "cell_type": "markdown",
   "metadata": {},
   "source": [
    "# references\n",
    "\n",
    "[save and load model](https://www.tensorflow.org/guide/keras/save_and_serialize)\n",
    "\n",
    "[cifar-10](https://www.geeksforgeeks.org/cifar-10-image-classification-in-tensorflow/)\n",
    "\n",
    "[basic classification](https://www.tensorflow.org/tutorials/keras/classification)\n",
    "\n",
    "[images classification](https://www.tensorflow.org/tutorials/images/classification)"
   ]
  }
 ],
 "metadata": {
  "kernelspec": {
   "display_name": "Python 3.8.10 ('env': venv)",
   "language": "python",
   "name": "python3"
  },
  "language_info": {
   "codemirror_mode": {
    "name": "ipython",
    "version": 3
   },
   "file_extension": ".py",
   "mimetype": "text/x-python",
   "name": "python",
   "nbconvert_exporter": "python",
   "pygments_lexer": "ipython3",
   "version": "3.8.10"
  },
  "orig_nbformat": 4,
  "vscode": {
   "interpreter": {
    "hash": "05c07edd6a640cc03856e525edbd7b8bb7d0495cadd0821e239bf05885d15ee1"
   }
  }
 },
 "nbformat": 4,
 "nbformat_minor": 2
}
